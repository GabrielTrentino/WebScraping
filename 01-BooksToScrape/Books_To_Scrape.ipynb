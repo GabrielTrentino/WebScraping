{
  "nbformat": 4,
  "nbformat_minor": 0,
  "metadata": {
    "colab": {
      "name": "Books_To_Scrape.ipynb",
      "provenance": [],
      "toc_visible": true
    },
    "kernelspec": {
      "name": "python3",
      "display_name": "Python 3"
    }
  },
  "cells": [
    {
      "cell_type": "markdown",
      "metadata": {
        "id": "bqSjNtKF7zLh",
        "colab_type": "text"
      },
      "source": [
        "![](https://github.com/GabrielTrentino/WebScraping/blob/master/00-img/01-BooksToScrape.png?raw=true)\n",
        "\n",
        "# Análise de Books To Scrape:\n",
        "\n",
        "[Books to Scrape](http://books.toscrape.com/) é uma pagina que possui como finalidade praticar conceitos e aplicações de Web Scraping e Web Crawling. Esse notebook tem como finalidade analisar os dados obtidos dessa página, fornecendo novos insights sobre o que foi obtido.\n",
        "\n",
        "Primeiramente, serão importadas as bibiotecas necessárias para manipulação dos Data Sets para realizar a Análise dos dados e, em seguida, são importadas as bibliotecas utilziadas para o Plot de Gráficos."
      ]
    },
    {
      "cell_type": "code",
      "metadata": {
        "id": "dlmdqEnljMWG",
        "colab_type": "code",
        "colab": {
          "base_uri": "https://localhost:8080/",
          "height": 72
        },
        "outputId": "20eaca9c-68dd-4b65-9d5d-b6fbad6d77bb"
      },
      "source": [
        "import numpy as np\n",
        "import pandas as pd\n",
        "import matplotlib.pyplot as plt\n",
        "import seaborn as sns"
      ],
      "execution_count": 1,
      "outputs": [
        {
          "output_type": "stream",
          "text": [
            "/usr/local/lib/python3.6/dist-packages/statsmodels/tools/_testing.py:19: FutureWarning: pandas.util.testing is deprecated. Use the functions in the public API at pandas.testing instead.\n",
            "  import pandas.util.testing as tm\n"
          ],
          "name": "stderr"
        }
      ]
    },
    {
      "cell_type": "markdown",
      "metadata": {
        "id": "R2Yl-TNiIw42",
        "colab_type": "text"
      },
      "source": [
        "## Importação do Dataset:\n",
        "\n",
        "O Data Set utilizado é um arquivo `.csv` que foi extraido da página Books to Scrape e será utilizado para análise exploratória. Esse Data Set está disponibilizado no GitHub pelo link abaixo."
      ]
    },
    {
      "cell_type": "code",
      "metadata": {
        "id": "0pYviU3hiths",
        "colab_type": "code",
        "colab": {
          "base_uri": "https://localhost:8080/",
          "height": 197
        },
        "outputId": "3c577ae9-91b3-4c34-b9da-8fcec0d324ec"
      },
      "source": [
        "# Link do Data Set:\n",
        "url_dataset = 'https://raw.githubusercontent.com/GabrielTrentino/WebScraping/master/01-BooksToScrape/books_scrap.csv'\n",
        "df = pd.read_csv(url_dataset, encoding='cp1252')\n",
        "\n",
        "# Corrigindo a descrição da variável Estrelas:\n",
        "correcao = {'One':1, 'Two':2, 'Three':3, 'Four':4, 'Five':5}\n",
        "df.Estrelas = df.Estrelas.map(correcao)\n",
        "df.head(5)"
      ],
      "execution_count": 2,
      "outputs": [
        {
          "output_type": "execute_result",
          "data": {
            "text/html": [
              "<div>\n",
              "<style scoped>\n",
              "    .dataframe tbody tr th:only-of-type {\n",
              "        vertical-align: middle;\n",
              "    }\n",
              "\n",
              "    .dataframe tbody tr th {\n",
              "        vertical-align: top;\n",
              "    }\n",
              "\n",
              "    .dataframe thead th {\n",
              "        text-align: right;\n",
              "    }\n",
              "</style>\n",
              "<table border=\"1\" class=\"dataframe\">\n",
              "  <thead>\n",
              "    <tr style=\"text-align: right;\">\n",
              "      <th></th>\n",
              "      <th>Titulo</th>\n",
              "      <th>Genero</th>\n",
              "      <th>Preco</th>\n",
              "      <th>Taxa</th>\n",
              "      <th>Estrelas</th>\n",
              "      <th>Reviews</th>\n",
              "      <th>Estoque</th>\n",
              "      <th>UPC</th>\n",
              "    </tr>\n",
              "  </thead>\n",
              "  <tbody>\n",
              "    <tr>\n",
              "      <th>0</th>\n",
              "      <td>A Light in the Attic</td>\n",
              "      <td>Poetry</td>\n",
              "      <td>51.77</td>\n",
              "      <td>0.0</td>\n",
              "      <td>3</td>\n",
              "      <td>0</td>\n",
              "      <td>22</td>\n",
              "      <td>a897fe39b1053632</td>\n",
              "    </tr>\n",
              "    <tr>\n",
              "      <th>1</th>\n",
              "      <td>Tipping the Velvet</td>\n",
              "      <td>Historical Fiction</td>\n",
              "      <td>53.74</td>\n",
              "      <td>0.0</td>\n",
              "      <td>1</td>\n",
              "      <td>0</td>\n",
              "      <td>20</td>\n",
              "      <td>90fa61229261140a</td>\n",
              "    </tr>\n",
              "    <tr>\n",
              "      <th>2</th>\n",
              "      <td>Soumission</td>\n",
              "      <td>Fiction</td>\n",
              "      <td>50.10</td>\n",
              "      <td>0.0</td>\n",
              "      <td>1</td>\n",
              "      <td>0</td>\n",
              "      <td>20</td>\n",
              "      <td>6957f44c3847a760</td>\n",
              "    </tr>\n",
              "    <tr>\n",
              "      <th>3</th>\n",
              "      <td>Sharp Objects</td>\n",
              "      <td>Mystery</td>\n",
              "      <td>47.82</td>\n",
              "      <td>0.0</td>\n",
              "      <td>4</td>\n",
              "      <td>0</td>\n",
              "      <td>20</td>\n",
              "      <td>e00eb4fd7b871a48</td>\n",
              "    </tr>\n",
              "    <tr>\n",
              "      <th>4</th>\n",
              "      <td>Sapiens: A Brief History of Humankind</td>\n",
              "      <td>History</td>\n",
              "      <td>54.23</td>\n",
              "      <td>0.0</td>\n",
              "      <td>5</td>\n",
              "      <td>0</td>\n",
              "      <td>20</td>\n",
              "      <td>4165285e1663650f</td>\n",
              "    </tr>\n",
              "  </tbody>\n",
              "</table>\n",
              "</div>"
            ],
            "text/plain": [
              "                                  Titulo  ...               UPC\n",
              "0                   A Light in the Attic  ...  a897fe39b1053632\n",
              "1                     Tipping the Velvet  ...  90fa61229261140a\n",
              "2                             Soumission  ...  6957f44c3847a760\n",
              "3                          Sharp Objects  ...  e00eb4fd7b871a48\n",
              "4  Sapiens: A Brief History of Humankind  ...  4165285e1663650f\n",
              "\n",
              "[5 rows x 8 columns]"
            ]
          },
          "metadata": {
            "tags": []
          },
          "execution_count": 2
        }
      ]
    },
    {
      "cell_type": "markdown",
      "metadata": {
        "id": "DfSMZJmQWT_k",
        "colab_type": "text"
      },
      "source": [
        "## Q1. Como que a distribuição das variáveis se comportam?\n",
        "\n",
        "Um dos fatores que temos que nos atentar é sobre como as variáveis se comportam em nosso Data Set. Uma vez que precisamos detectar possíveis problemas para a nossa análise como Outliers ou valores não presentes."
      ]
    },
    {
      "cell_type": "code",
      "metadata": {
        "id": "qKeNaM3-tFbf",
        "colab_type": "code",
        "colab": {
          "base_uri": "https://localhost:8080/",
          "height": 287
        },
        "outputId": "f0292543-4069-496d-f16a-190826f4572e"
      },
      "source": [
        "# Obtendo a Descrição Estatística das Variáveis:\n",
        "df.describe().round(2)"
      ],
      "execution_count": 3,
      "outputs": [
        {
          "output_type": "execute_result",
          "data": {
            "text/html": [
              "<div>\n",
              "<style scoped>\n",
              "    .dataframe tbody tr th:only-of-type {\n",
              "        vertical-align: middle;\n",
              "    }\n",
              "\n",
              "    .dataframe tbody tr th {\n",
              "        vertical-align: top;\n",
              "    }\n",
              "\n",
              "    .dataframe thead th {\n",
              "        text-align: right;\n",
              "    }\n",
              "</style>\n",
              "<table border=\"1\" class=\"dataframe\">\n",
              "  <thead>\n",
              "    <tr style=\"text-align: right;\">\n",
              "      <th></th>\n",
              "      <th>Preco</th>\n",
              "      <th>Taxa</th>\n",
              "      <th>Estrelas</th>\n",
              "      <th>Reviews</th>\n",
              "      <th>Estoque</th>\n",
              "    </tr>\n",
              "  </thead>\n",
              "  <tbody>\n",
              "    <tr>\n",
              "      <th>count</th>\n",
              "      <td>1000.00</td>\n",
              "      <td>1000.0</td>\n",
              "      <td>1000.00</td>\n",
              "      <td>1000.0</td>\n",
              "      <td>1000.00</td>\n",
              "    </tr>\n",
              "    <tr>\n",
              "      <th>mean</th>\n",
              "      <td>35.07</td>\n",
              "      <td>0.0</td>\n",
              "      <td>2.92</td>\n",
              "      <td>0.0</td>\n",
              "      <td>8.59</td>\n",
              "    </tr>\n",
              "    <tr>\n",
              "      <th>std</th>\n",
              "      <td>14.45</td>\n",
              "      <td>0.0</td>\n",
              "      <td>1.43</td>\n",
              "      <td>0.0</td>\n",
              "      <td>5.65</td>\n",
              "    </tr>\n",
              "    <tr>\n",
              "      <th>min</th>\n",
              "      <td>10.00</td>\n",
              "      <td>0.0</td>\n",
              "      <td>1.00</td>\n",
              "      <td>0.0</td>\n",
              "      <td>1.00</td>\n",
              "    </tr>\n",
              "    <tr>\n",
              "      <th>25%</th>\n",
              "      <td>22.11</td>\n",
              "      <td>0.0</td>\n",
              "      <td>2.00</td>\n",
              "      <td>0.0</td>\n",
              "      <td>3.00</td>\n",
              "    </tr>\n",
              "    <tr>\n",
              "      <th>50%</th>\n",
              "      <td>35.98</td>\n",
              "      <td>0.0</td>\n",
              "      <td>3.00</td>\n",
              "      <td>0.0</td>\n",
              "      <td>7.00</td>\n",
              "    </tr>\n",
              "    <tr>\n",
              "      <th>75%</th>\n",
              "      <td>47.46</td>\n",
              "      <td>0.0</td>\n",
              "      <td>4.00</td>\n",
              "      <td>0.0</td>\n",
              "      <td>14.00</td>\n",
              "    </tr>\n",
              "    <tr>\n",
              "      <th>max</th>\n",
              "      <td>59.99</td>\n",
              "      <td>0.0</td>\n",
              "      <td>5.00</td>\n",
              "      <td>0.0</td>\n",
              "      <td>22.00</td>\n",
              "    </tr>\n",
              "  </tbody>\n",
              "</table>\n",
              "</div>"
            ],
            "text/plain": [
              "         Preco    Taxa  Estrelas  Reviews  Estoque\n",
              "count  1000.00  1000.0   1000.00   1000.0  1000.00\n",
              "mean     35.07     0.0      2.92      0.0     8.59\n",
              "std      14.45     0.0      1.43      0.0     5.65\n",
              "min      10.00     0.0      1.00      0.0     1.00\n",
              "25%      22.11     0.0      2.00      0.0     3.00\n",
              "50%      35.98     0.0      3.00      0.0     7.00\n",
              "75%      47.46     0.0      4.00      0.0    14.00\n",
              "max      59.99     0.0      5.00      0.0    22.00"
            ]
          },
          "metadata": {
            "tags": []
          },
          "execution_count": 3
        }
      ]
    },
    {
      "cell_type": "markdown",
      "metadata": {
        "id": "jS97IMBaI3Lq",
        "colab_type": "text"
      },
      "source": [
        "Utilizando as Descrições Estatísticas, podemos perceber que tanto a variável **`Taxa` e a variável `Reviews` possuiram valores iguais a 0** em todas as 1000 entradas. Sabendo dessa indiferença (que pode ter sido causada pela falta de informação dos livros) **foram retiradas essas duas colunas** por não acrescentar em nada na análise."
      ]
    },
    {
      "cell_type": "markdown",
      "metadata": {
        "id": "6UgDp5K27uhr",
        "colab_type": "text"
      },
      "source": [
        "### Corrigindo o Data Set: Eliminando `Taxa` e `Reviews`.\n",
        "\n",
        "Como dito anteriormente, as variáveis **`Taxa` e `Reviews` serão retiradas** do Data Set por possuirem valores constantes nas 1000 entradas que são iguais a 0."
      ]
    },
    {
      "cell_type": "code",
      "metadata": {
        "id": "4P6ehW6stMzp",
        "colab_type": "code",
        "colab": {
          "base_uri": "https://localhost:8080/",
          "height": 197
        },
        "outputId": "6d406d7b-bad0-4136-f8d1-f17b6f6d8cdb"
      },
      "source": [
        "# Eliminado Taxa e Reviews:\n",
        "df.drop(['Taxa', 'Reviews'], axis=1, inplace=True)\n",
        "\n",
        "# Mostrando as 5 primeiras entradas do Data Frame:\n",
        "df.head(5)"
      ],
      "execution_count": 4,
      "outputs": [
        {
          "output_type": "execute_result",
          "data": {
            "text/html": [
              "<div>\n",
              "<style scoped>\n",
              "    .dataframe tbody tr th:only-of-type {\n",
              "        vertical-align: middle;\n",
              "    }\n",
              "\n",
              "    .dataframe tbody tr th {\n",
              "        vertical-align: top;\n",
              "    }\n",
              "\n",
              "    .dataframe thead th {\n",
              "        text-align: right;\n",
              "    }\n",
              "</style>\n",
              "<table border=\"1\" class=\"dataframe\">\n",
              "  <thead>\n",
              "    <tr style=\"text-align: right;\">\n",
              "      <th></th>\n",
              "      <th>Titulo</th>\n",
              "      <th>Genero</th>\n",
              "      <th>Preco</th>\n",
              "      <th>Estrelas</th>\n",
              "      <th>Estoque</th>\n",
              "      <th>UPC</th>\n",
              "    </tr>\n",
              "  </thead>\n",
              "  <tbody>\n",
              "    <tr>\n",
              "      <th>0</th>\n",
              "      <td>A Light in the Attic</td>\n",
              "      <td>Poetry</td>\n",
              "      <td>51.77</td>\n",
              "      <td>3</td>\n",
              "      <td>22</td>\n",
              "      <td>a897fe39b1053632</td>\n",
              "    </tr>\n",
              "    <tr>\n",
              "      <th>1</th>\n",
              "      <td>Tipping the Velvet</td>\n",
              "      <td>Historical Fiction</td>\n",
              "      <td>53.74</td>\n",
              "      <td>1</td>\n",
              "      <td>20</td>\n",
              "      <td>90fa61229261140a</td>\n",
              "    </tr>\n",
              "    <tr>\n",
              "      <th>2</th>\n",
              "      <td>Soumission</td>\n",
              "      <td>Fiction</td>\n",
              "      <td>50.10</td>\n",
              "      <td>1</td>\n",
              "      <td>20</td>\n",
              "      <td>6957f44c3847a760</td>\n",
              "    </tr>\n",
              "    <tr>\n",
              "      <th>3</th>\n",
              "      <td>Sharp Objects</td>\n",
              "      <td>Mystery</td>\n",
              "      <td>47.82</td>\n",
              "      <td>4</td>\n",
              "      <td>20</td>\n",
              "      <td>e00eb4fd7b871a48</td>\n",
              "    </tr>\n",
              "    <tr>\n",
              "      <th>4</th>\n",
              "      <td>Sapiens: A Brief History of Humankind</td>\n",
              "      <td>History</td>\n",
              "      <td>54.23</td>\n",
              "      <td>5</td>\n",
              "      <td>20</td>\n",
              "      <td>4165285e1663650f</td>\n",
              "    </tr>\n",
              "  </tbody>\n",
              "</table>\n",
              "</div>"
            ],
            "text/plain": [
              "                                  Titulo  ...               UPC\n",
              "0                   A Light in the Attic  ...  a897fe39b1053632\n",
              "1                     Tipping the Velvet  ...  90fa61229261140a\n",
              "2                             Soumission  ...  6957f44c3847a760\n",
              "3                          Sharp Objects  ...  e00eb4fd7b871a48\n",
              "4  Sapiens: A Brief History of Humankind  ...  4165285e1663650f\n",
              "\n",
              "[5 rows x 6 columns]"
            ]
          },
          "metadata": {
            "tags": []
          },
          "execution_count": 4
        }
      ]
    },
    {
      "cell_type": "markdown",
      "metadata": {
        "id": "mavO2FBw8Po-",
        "colab_type": "text"
      },
      "source": [
        "## Q2. Quais são os Gêneros Existentes?\n",
        "\n",
        "Com a correção do Data Set, a pergunta que fica é: Quais são os Gêneros existentes nesse site? Parar obter os gêneros do df é utilizado `df.Genero.unique()`."
      ]
    },
    {
      "cell_type": "code",
      "metadata": {
        "id": "FLeCEdJ1tYFr",
        "colab_type": "code",
        "colab": {
          "base_uri": "https://localhost:8080/",
          "height": 265
        },
        "outputId": "16aaa40a-443b-4e60-e41a-31463283bd5c"
      },
      "source": [
        "rep = 0\n",
        "\n",
        "# Imprimindo os Gêneros por linhas:\n",
        "for i in sorted(df.Genero.unique()):\n",
        "  print(i, end = ' / ')\n",
        "  if rep == 7:\n",
        "    print('\\n')\n",
        "    rep = 0\n",
        "  rep += 1"
      ],
      "execution_count": 5,
      "outputs": [
        {
          "output_type": "stream",
          "text": [
            "Academic / Add a comment / Adult Fiction / Art / Autobiography / Biography / Business / Childrens / \n",
            "\n",
            "Christian / Christian Fiction / Classics / Contemporary / Crime / Cultural / Default / \n",
            "\n",
            "Erotica / Fantasy / Fiction / Food and Drink / Health / Historical / Historical Fiction / \n",
            "\n",
            "History / Horror / Humor / Music / Mystery / New Adult / Nonfiction / \n",
            "\n",
            "Novels / Paranormal / Parenting / Philosophy / Poetry / Politics / Psychology / \n",
            "\n",
            "Religion / Romance / Science / Science Fiction / Self Help / Sequential Art / Short Stories / \n",
            "\n",
            "Spirituality / Sports and Games / Suspense / Thriller / Travel / Womens Fiction / Young Adult / \n",
            "\n"
          ],
          "name": "stdout"
        }
      ]
    },
    {
      "cell_type": "markdown",
      "metadata": {
        "id": "IKOG2DlGWeLD",
        "colab_type": "text"
      },
      "source": [
        "## Q3. Quais são os Gêneros que possuem melhores Notas?\n",
        "\n",
        "Seguindo nossa análise, é importante observar os Gêneros de maiores notas para recomendações futuras. Com isso, é listado os gêneros dos livros de acordo com suas notas médias."
      ]
    },
    {
      "cell_type": "code",
      "metadata": {
        "id": "xdnNdP4Itlg3",
        "colab_type": "code",
        "colab": {
          "base_uri": "https://localhost:8080/",
          "height": 412
        },
        "outputId": "c791f26b-6c59-4b1c-f3f0-f55ff952e39b"
      },
      "source": [
        "# Agrupando os livros por Gênero e obtendo a média das Estrelas:\n",
        "generos_populares = df.groupby(['Genero']).mean().sort_values('Estrelas', ascending=False).Estrelas\n",
        "\n",
        "# Elaborando a imagem gráfica:\n",
        "fig, ax = plt.subplots(figsize = (8,6))\n",
        "\n",
        "# Elaborando um barplot:\n",
        "sns.barplot(x=generos_populares.head(8), y=generos_populares.head(8).index, ax=ax)\n",
        "\n",
        "# Colocando as legendas:\n",
        "ax.set_title(\"Gêneros que possuem as melhores notas médias\", fontsize = 18)\n",
        "ax.set_xlabel(\"Média de Notas\", fontsize = 12)\n",
        "ax.set_ylabel(\"Gêneros Literários\", fontsize = 12);"
      ],
      "execution_count": 6,
      "outputs": [
        {
          "output_type": "display_data",
          "data": {
            "image/png": "[encoded data removed]",
            "text/plain": [
              "<Figure size 576x432 with 1 Axes>"
            ]
          },
          "metadata": {
            "tags": [],
            "needs_background": "light"
          }
        }
      ]
    },
    {
      "cell_type": "markdown",
      "metadata": {
        "id": "D9GiqDRdrLwr",
        "colab_type": "text"
      },
      "source": [
        "Um problema que pode ser visto aqui é que há 3 gêneros que possuem nota perfeita (5 estrelas). A duvida que temos é que: será q todos os livros desse gênero possuem a nota 5 ou que temos a poucos livros nesse gênero?"
      ]
    },
    {
      "cell_type": "markdown",
      "metadata": {
        "id": "bdWo4i8dZ_qF",
        "colab_type": "text"
      },
      "source": [
        "### Removendo Gêneros com menos de 10 obras listadas:\n",
        "\n",
        "Uma das formas que temos de verificar essa nota perfeita é removendo os gêneros que possuem menos de 10 obras listadas, dessa forma, temos:"
      ]
    },
    {
      "cell_type": "code",
      "metadata": {
        "id": "GOlTAxhnX-SI",
        "colab_type": "code",
        "colab": {
          "base_uri": "https://localhost:8080/",
          "height": 412
        },
        "outputId": "bc24029e-924b-4214-a8a8-e1806e9e6838"
      },
      "source": [
        "# Obtendo Data Frame com Generos que possuem mais de 10 obras:\n",
        "df_acima_10_obras = df[df.groupby('Genero')['Genero'].transform('count').ge(10)]\n",
        "\n",
        "# Obtendo a média de Estrelas por Gênero:\n",
        "generos_populares = df_acima_10_obras.groupby(['Genero']).mean().sort_values('Estrelas', ascending=False).Estrelas\n",
        "\n",
        "# Elaborando a imagem gráfica:\n",
        "fig, ax = plt.subplots(figsize = (8,6))\n",
        "\n",
        "# Elaborando um barplot:\n",
        "sns.barplot(x=generos_populares.head(8), y=generos_populares.head(8).index, ax=ax)\n",
        "\n",
        "# Colocando as legendas:\n",
        "ax.set_title(\"Gêneros que possuem as melhores Notas Médias e mais de 10 obras listadas\", fontsize = 18)\n",
        "ax.set_xlabel(\"Média de Notas\", fontsize = 12)\n",
        "ax.set_ylabel(\"Gêneros Literários\", fontsize = 12);"
      ],
      "execution_count": 7,
      "outputs": [
        {
          "output_type": "display_data",
          "data": {
            "image/png": "[encoded data removed]",
            "text/plain": [
              "<Figure size 576x432 with 1 Axes>"
            ]
          },
          "metadata": {
            "tags": [],
            "needs_background": "light"
          }
        }
      ]
    },
    {
      "cell_type": "markdown",
      "metadata": {
        "id": "B2Q4ihCeueqA",
        "colab_type": "text"
      },
      "source": [
        "### Observando Gêneros com menos de 10 obras listadas:\n",
        "\n",
        "Por um outro lado, quais são as notas médias dos gêneros que possuem menos de 10 livros listados?"
      ]
    },
    {
      "cell_type": "code",
      "metadata": {
        "id": "Gm3_Ubc2udtG",
        "colab_type": "code",
        "colab": {
          "base_uri": "https://localhost:8080/",
          "height": 412
        },
        "outputId": "5b6f7362-0ca7-457d-9f6b-1fb39af93803"
      },
      "source": [
        "# Obtendo Data Frame com Gêneros que possuem menos de 10 obras:\n",
        "df_abaixo_10_obras = df[df.groupby('Genero')['Genero'].transform('count').ge(-10)]\n",
        "\n",
        "# Obtendo a média de Estrelas por Gênero:\n",
        "generos_popularidade_questionavel = df_abaixo_10_obras.groupby(['Genero']).mean().sort_values('Estrelas', ascending=False).Estrelas\n",
        "\n",
        "# Elaborando a imagem gráfica:\n",
        "fig, ax = plt.subplots(figsize = (8,6))\n",
        "\n",
        "# Elaborando um barplot:\n",
        "sns.barplot(x=generos_popularidade_questionavel.head(8), y=generos_popularidade_questionavel.head(8).index, ax=ax)\n",
        "\n",
        "# Colocando as legendas:\n",
        "ax.set_title(\"Gêneros que possuem as melhores notas médias e menos de 10 obras listadas\", fontsize = 18)\n",
        "ax.set_xlabel(\"Média de Notas\", fontsize = 12)\n",
        "ax.set_ylabel(\"Gêneros Literários\", fontsize = 12);"
      ],
      "execution_count": 8,
      "outputs": [
        {
          "output_type": "display_data",
          "data": {
            "image/png": "[encoded data removed]",
            "text/plain": [
              "<Figure size 576x432 with 1 Axes>"
            ]
          },
          "metadata": {
            "tags": [],
            "needs_background": "light"
          }
        }
      ]
    },
    {
      "cell_type": "markdown",
      "metadata": {
        "id": "3IZk_tNxWgud",
        "colab_type": "text"
      },
      "source": [
        "## Q4. Quais são os Generos que possuem maior variedade de obras?\n",
        "\n",
        "Sabendo dos Gêneros que possuem maiores notas no site, quais seriam os gêneros que possuem maior variedade de obras?"
      ]
    },
    {
      "cell_type": "code",
      "metadata": {
        "id": "WJJu5u8mt6hN",
        "colab_type": "code",
        "colab": {
          "base_uri": "https://localhost:8080/",
          "height": 414
        },
        "outputId": "cfb93c22-ab76-4539-892a-aadca59dbf3b"
      },
      "source": [
        "# Separando o Data Frame por repetição de Gênero:\n",
        "qnt_livro_por_genero = df.groupby('Genero').Genero.count().sort_values(ascending=False).head(10)\n",
        "\n",
        "# Criando a figura:\n",
        "fig, ax = plt.subplots(figsize = (12,6))\n",
        "\n",
        "# Elaborando o Bar plot com o Seaborn:\n",
        "sns.barplot(x=qnt_livro_por_genero, y=qnt_livro_por_genero.index, ax=ax)\n",
        "\n",
        "# Inserindo as Legendas e Titulos:\n",
        "ax.set_title(\"Quantidade de Livros por Gêneros que possuem mais de 10 obras listadas\", fontsize = 20)\n",
        "ax.set_xlabel(\"Quantidade de Livros\", fontsize = 16)\n",
        "ax.set_ylabel(\"Gêneros Literários\", fontsize = 16);"
      ],
      "execution_count": 9,
      "outputs": [
        {
          "output_type": "display_data",
          "data": {
            "image/png": "[encoded data removed]",
            "text/plain": [
              "<Figure size 864x432 with 1 Axes>"
            ]
          },
          "metadata": {
            "tags": [],
            "needs_background": "light"
          }
        }
      ]
    },
    {
      "cell_type": "markdown",
      "metadata": {
        "id": "8yn7LldVIK0x",
        "colab_type": "text"
      },
      "source": [
        "Podemos observar nesse gráfico que o gênero `Default` e o gênero `Add a comment` estão entre os topos na variedade, mas ele não são necesseriamente um gênero que representa um gênero literário. Outro ponto que pode-se concluir é que os gêneros de `Non Fiction` (Não Ficção) e `Art sequential` possuem as maiores representatividades."
      ]
    },
    {
      "cell_type": "markdown",
      "metadata": {
        "id": "OOBjmEl8jTJx",
        "colab_type": "text"
      },
      "source": [
        "## Q5. Qual a Quantidade de Votos para os Gêneros `Default` e `Add a comment`?\n",
        "\n",
        "Vimos que esses dois Gêneros possuem uma maior variedade de obras, mas não representam um Gênero literário em si. Por isso, qual é a distribuição das Estrelas recebidos pelos os livros nessa categoria?"
      ]
    },
    {
      "cell_type": "code",
      "metadata": {
        "id": "RpmlkCnJgWrX",
        "colab_type": "code",
        "colab": {
          "base_uri": "https://localhost:8080/",
          "height": 414
        },
        "outputId": "22b3fa35-8e5d-47ae-9133-654c625b3069"
      },
      "source": [
        "# Obtendo o Data Frame apenas com o Gênero Default:\n",
        "df_default = df.loc[df.Genero == 'Default']\n",
        "\n",
        "# Obtendo a Frequência de Estrelas para o Gênero Default:\n",
        "qnt_porcEstrelas_default = df_default.Estrelas.value_counts()/df_default.shape[0]\n",
        "\n",
        "# Criando a figura:\n",
        "fig, ax = plt.subplots(figsize = (12,6))\n",
        "\n",
        "# Elaborando o Bar plot com o Seaborn:\n",
        "sns.barplot(x=qnt_porcEstrelas_default.index, y=qnt_porcEstrelas_default, ax=ax)\n",
        "\n",
        "# Inserindo as Legendas e Titulos:\n",
        "ax.set_title(\"Frequência de Estrelas para o Gênero Default\", fontsize = 20)\n",
        "ax.set_xlabel(\"Quantidade de Estrelas\", fontsize = 16)\n",
        "ax.set_ylabel(\"Frequência das Estrelas sobre o Total\", fontsize = 16);"
      ],
      "execution_count": 10,
      "outputs": [
        {
          "output_type": "display_data",
          "data": {
            "image/png": "[encoded data removed]",
            "text/plain": [
              "<Figure size 864x432 with 1 Axes>"
            ]
          },
          "metadata": {
            "tags": [],
            "needs_background": "light"
          }
        }
      ]
    },
    {
      "cell_type": "code",
      "metadata": {
        "id": "FegUnLTVjjk9",
        "colab_type": "code",
        "colab": {
          "base_uri": "https://localhost:8080/",
          "height": 414
        },
        "outputId": "e82ab78b-9410-4949-869c-9d74221c692d"
      },
      "source": [
        "# Obtendo o Data Frame apenas com o Gênero Add a comment:\n",
        "df_addcomment = df.loc[df.Genero == 'Add a comment']\n",
        "\n",
        "# Obtendo a Frequência de Estrelas para o Gênero Default:\n",
        "qnt_porcEstrelas_addcomment = df_addcomment.Estrelas.value_counts()/df_addcomment.shape[0]\n",
        "\n",
        "# Criando a figura:\n",
        "fig, ax = plt.subplots(figsize = (12,6))\n",
        "\n",
        "# Elaborando o Bar plot com o Seaborn:\n",
        "sns.barplot(x=qnt_porcEstrelas_addcomment.index, y=qnt_porcEstrelas_addcomment, ax=ax)\n",
        "\n",
        "# Inserindo as Legendas e Titulos:\n",
        "ax.set_title(\"Frequência de Estrelas para o Gênero Add a Comment\", fontsize = 20)\n",
        "ax.set_xlabel(\"Quantidade de Estrelas\", fontsize = 16)\n",
        "ax.set_ylabel(\"Frequência das Estrelas sobre o Total\", fontsize = 16);"
      ],
      "execution_count": 11,
      "outputs": [
        {
          "output_type": "display_data",
          "data": {
            "image/png": "[encoded data removed]",
            "text/plain": [
              "<Figure size 864x432 with 1 Axes>"
            ]
          },
          "metadata": {
            "tags": [],
            "needs_background": "light"
          }
        }
      ]
    },
    {
      "cell_type": "markdown",
      "metadata": {
        "id": "ArOJR5EFJYdX",
        "colab_type": "text"
      },
      "source": [
        "Para o gênero `Default` vimos uma partição quase q igual entre as notas, mas é observado que mais de 25% dos livros recebem 2 Estrelas de Voto. Em contra partida, o Gênero `Add a comment` recebe 3 estrelas em 25% dos casos, chegando a receber 5 estrelas em 11% dos casos."
      ]
    },
    {
      "cell_type": "markdown",
      "metadata": {
        "id": "fthP1qz6Wl2U",
        "colab_type": "text"
      },
      "source": [
        "## Q6. Quais Gêneros possuem menor variedade de livros?\n",
        "\n",
        "Além de observar os livros com maior relevância ou que atraem a atenção dos usuários, outro fator que deve-se observar são os livros com menor variedade. Pois afinal, os usuários não teriam interesses nesses temas? O site deve se preocupar em incentivar novos gêneros? É uma área em que a empresa pode vir a se interessar?\n",
        "\n",
        "Essas perguntas devem ser respondidas por um Cientista de Dados, porém, os dados disponíveis são insuficientes para gerar esses tipos de conclusões ou tomadas de decisões."
      ]
    },
    {
      "cell_type": "code",
      "metadata": {
        "id": "4R9Yxa-VWL5u",
        "colab_type": "code",
        "colab": {
          "base_uri": "https://localhost:8080/",
          "height": 265
        },
        "outputId": "d9d27da8-0b2c-4755-cef1-9714dbefad28"
      },
      "source": [
        "# Contando a quantidade de livros nos gêneros:\n",
        "generos_com_menor_variedade = df.groupby('Genero').Genero.count().sort_values(ascending=True)\n",
        "generos_com_menor_variedade.head(12)"
      ],
      "execution_count": 12,
      "outputs": [
        {
          "output_type": "execute_result",
          "data": {
            "text/plain": [
              "Genero\n",
              "Academic         1\n",
              "Paranormal       1\n",
              "Parenting        1\n",
              "Erotica          1\n",
              "Cultural         1\n",
              "Novels           1\n",
              "Short Stories    1\n",
              "Crime            1\n",
              "Suspense         1\n",
              "Adult Fiction    1\n",
              "Historical       2\n",
              "Christian        3\n",
              "Name: Genero, dtype: int64"
            ]
          },
          "metadata": {
            "tags": []
          },
          "execution_count": 12
        }
      ]
    },
    {
      "cell_type": "markdown",
      "metadata": {
        "id": "H0AdZQWjMDV5",
        "colab_type": "text"
      },
      "source": [
        "Com essa parte, observa-se que há 10 gêneros com apenas uma obra. Essa situação preocupa a empresa?"
      ]
    },
    {
      "cell_type": "markdown",
      "metadata": {
        "id": "7_IsgcSKWpix",
        "colab_type": "text"
      },
      "source": [
        "## Q7. Quais são os Gêneros com menores estoques?\n",
        "\n",
        "Seguindo nossa análise, outro ponto que deve-se observar é a quantidade de Estoque, pois a falta de Estoque pode acarretar em poucas vendas. Porém, o baixo Estoque pode ser representado pela pouca variedade de obras, inclusive. Em seguida, na Tomada de Decisão, é selecionado os livros que possuem menos de 5 exemplares disponíveis para troca/venda."
      ]
    },
    {
      "cell_type": "code",
      "metadata": {
        "id": "sXyZdlrFjUGq",
        "colab_type": "code",
        "colab": {
          "base_uri": "https://localhost:8080/",
          "height": 230
        },
        "outputId": "ec625412-c903-4808-f5e1-299c0e4d8758"
      },
      "source": [
        "# Agrupando o Data Frame por gênero e somando a quantidade de estoque:\n",
        "estoque_genero = df.groupby(['Genero']).sum().sort_values('Estoque', ascending=True).Estoque\n",
        "estoque_genero.head(10)"
      ],
      "execution_count": 13,
      "outputs": [
        {
          "output_type": "execute_result",
          "data": {
            "text/plain": [
              "Genero\n",
              "Paranormal           1\n",
              "Adult Fiction        3\n",
              "Parenting            3\n",
              "Academic             5\n",
              "Suspense             8\n",
              "Short Stories        8\n",
              "Novels               9\n",
              "Sports and Games    10\n",
              "Erotica             15\n",
              "Crime               15\n",
              "Name: Estoque, dtype: int64"
            ]
          },
          "metadata": {
            "tags": []
          },
          "execution_count": 13
        }
      ]
    },
    {
      "cell_type": "markdown",
      "metadata": {
        "id": "PDMmmVdLNIyY",
        "colab_type": "text"
      },
      "source": [
        "O Gênero literário `Paranormal` apareceu tanto na Q6. quanto nessa Q7. mostrando que apenas um livro está presente no estoque e que ele é o unico de seu gênero."
      ]
    },
    {
      "cell_type": "markdown",
      "metadata": {
        "id": "j_IsQccRWsgV",
        "colab_type": "text"
      },
      "source": [
        "## Q8. Qual é o Preço Médio dos livros por Gênero?\n",
        "\n",
        "Como vimos na descrição estatística, os livros disponíveis no estoque variam de 10 libras até 60 libras. Porém, qual a média desses preços segundo seu gênero literário?"
      ]
    },
    {
      "cell_type": "code",
      "metadata": {
        "id": "P-jhKhFkrLGE",
        "colab_type": "code",
        "colab": {
          "base_uri": "https://localhost:8080/",
          "height": 415
        },
        "outputId": "001d4de4-d9d0-442a-f925-427b7572a4d2"
      },
      "source": [
        "# Agrupando o Data Frame por Gênero e acima de 10 exemplares:\n",
        "df_acima_10_obras = df[df.groupby('Genero')['Genero'].transform('count').ge(10)]\n",
        "\n",
        "# Obtendo o preço médio dos Gêneros:\n",
        "df_preco_medio = df_acima_10_obras.groupby(['Genero']).mean().sort_values('Preco', ascending=False).Preco\n",
        "\n",
        "# Criando a figura:\n",
        "fig, ax = plt.subplots(figsize = (12,6))\n",
        "\n",
        "# Elaborando o Bar plot com o Seaborn:\n",
        "sns.barplot(x=df_preco_medio, y=df_preco_medio.index, ax=ax)\n",
        "\n",
        "# Inserindo as Legendas e Titulos:\n",
        "ax.set_title(\"Preço Médio dos Livros por Gênero\", fontsize = 20)\n",
        "ax.set_xlabel(\"Preço Médio em Libras\", fontsize = 16)\n",
        "ax.set_ylabel(\"Gêneros Literários\", fontsize = 16);"
      ],
      "execution_count": 14,
      "outputs": [
        {
          "output_type": "display_data",
          "data": {
            "image/png": "[encoded data removed]",
            "text/plain": [
              "<Figure size 864x432 with 1 Axes>"
            ]
          },
          "metadata": {
            "tags": [],
            "needs_background": "light"
          }
        }
      ]
    },
    {
      "cell_type": "markdown",
      "metadata": {
        "id": "mLqC1-9FPhux",
        "colab_type": "text"
      },
      "source": [
        "Pode-se observar que os gêneros de `Travel` e `Fantasy` possuem o primeiro patamar, possuindo aproximadamente o preço médio de 40 libras por exemplar."
      ]
    },
    {
      "cell_type": "markdown",
      "metadata": {
        "id": "9SApuqJSxC9V",
        "colab_type": "text"
      },
      "source": [
        "## Q9. Qual a possibilidade de movimentação monetária de cada livro?\n",
        "\n",
        "O ultimo ponto de análise desse Data Set é sobre a movimentação monetária que cada livro pode alcançar com o estoque atual."
      ]
    },
    {
      "cell_type": "code",
      "metadata": {
        "id": "p32yq4oi49Dr",
        "colab_type": "code",
        "colab": {
          "base_uri": "https://localhost:8080/",
          "height": 52
        },
        "outputId": "4c0a0147-8c2e-48a4-aaee-494048c30d48"
      },
      "source": [
        "# Criando uma nova coluna (variável) no Data Frame:\n",
        "df['Total_Arrecadavel'] = df['Preco'] * df['Estoque']\n",
        "\n",
        "print('Pode-se movimentar cerca de {:.2f} libras se vendesse todos os livros com menos de 5 exemplares no estoque'.format(df[df.Estoque < 5].Total_Arrecadavel.sum()))\n",
        "print('Esse valor corresponde à {:.2f}% do total {:.2f} de libras'.format((df[df.Estoque < 5].Total_Arrecadavel.sum()/df.Total_Arrecadavel.sum())*100, df.Total_Arrecadavel.sum()))"
      ],
      "execution_count": 15,
      "outputs": [
        {
          "output_type": "stream",
          "text": [
            "Pode-se movimentar cerca de 31607.00 libras se vendesse todos os livros com menos de 5 exemplares no estoque\n",
            "Esse valor corresponde à 10.53% do total 300188.27 de libras\n"
          ],
          "name": "stdout"
        }
      ]
    },
    {
      "cell_type": "code",
      "metadata": {
        "id": "GgxhOlSo5WjO",
        "colab_type": "code",
        "colab": {
          "base_uri": "https://localhost:8080/",
          "height": 52
        },
        "outputId": "4fb92389-e3f3-44ef-897a-5347977202a2"
      },
      "source": [
        "print('Pode-se movimentar cerca de {:.2f} libras se vendesse todos os livros com a partir de 5 exemplares no estoque'.format(df[df.Estoque>= 5].Total_Arrecadavel.sum()))\n",
        "print('Esse valor corresponde à {:.2f}% do total {:.2f} de libras'.format((df[df.Estoque >= 5].Total_Arrecadavel.sum()/df.Total_Arrecadavel.sum())*100, df.Total_Arrecadavel.sum()))"
      ],
      "execution_count": 16,
      "outputs": [
        {
          "output_type": "stream",
          "text": [
            "Pode-se movimentar cerca de 268581.27 libras se vendesse todos os livros com a partir de 5 exemplares no estoque\n",
            "Esse valor corresponde à 89.47% do total 300188.27 de libras\n"
          ],
          "name": "stdout"
        }
      ]
    },
    {
      "cell_type": "markdown",
      "metadata": {
        "id": "X7UQ-BUR4BLI",
        "colab_type": "text"
      },
      "source": [
        "# Informações para Tomadas de Decisões:\n",
        "\n",
        "Finalizando a Análise desse Data Set, é necessário criar as possíveis recomendações que a empresa pode tomar. Entre elas:\n",
        "\n",
        "* Cuidado com os livros que possuem menos de 5 exemplares em estoque;\n",
        "* Cuidado dobrado para livros com popularidade entre 4 e 5 estrelas que poossuem estoques abaixo de 5 exemplares;\n",
        "* Promover livros com popularidade alta e acima de 10 exemplares existentes no estoque;"
      ]
    },
    {
      "cell_type": "markdown",
      "metadata": {
        "id": "dXH5hoiqmggU",
        "colab_type": "text"
      },
      "source": [
        "## Observar Livros com Menos de 5 exemplares em estoque:\n",
        "\n",
        "Aqui estão listados os livros que possuem menos de 5 exemplares em estoque. Os livros aqui podem ser removidos pelo sistema ou promovidos, dependendo da necessidade da empresa em questão."
      ]
    },
    {
      "cell_type": "code",
      "metadata": {
        "id": "DojIo8oH4Ca_",
        "colab_type": "code",
        "colab": {
          "base_uri": "https://localhost:8080/",
          "height": 1000
        },
        "outputId": "4872c8a6-8809-472a-dac5-82fcbbd661dd"
      },
      "source": [
        "# Imprimindo os nomes dos livros que possuem menos de 5 exemplares no Estoque atualmente:\n",
        "for i in df[df.Estoque < 5].Titulo:\n",
        "  print(i)"
      ],
      "execution_count": 17,
      "outputs": [
        {
          "output_type": "stream",
          "text": [
            "Vogue Colors A to Z: A Fashion Coloring Book\n",
            "The Shining (The Shining #1)\n",
            "The Pilgrim's Progress\n",
            "The Perfect Play (Play by Play #1)\n",
            "The Passion of Dolssa\n",
            "The Jazz of Physics: The Secret Link Between Music and the Structure of the Universe\n",
            "The Hunger Games (The Hunger Games #1)\n",
            "The Hound of the Baskervilles (Sherlock Holmes #5)\n",
            "The Gunning of America: Business and the Making of American Gun Culture\n",
            "The Geography of Bliss: One Grump's Search for the Happiest Places in the World\n",
            "The Demonists (Demonist #1)\n",
            "The Demon Prince of Momochi House, Vol. 4 (The Demon Prince of Momochi House #4)\n",
            "The Bone Hunters (Lexy Vaughan & Steven Macaulay #2)\n",
            "The Beast (Black Dagger Brotherhood #14)\n",
            "Some Women\n",
            "Shopaholic Ties the Knot (Shopaholic #3)\n",
            "Paper and Fire (The Great Library #2)\n",
            "Outlander (Outlander #1)\n",
            "Orchestra of Exiles: The Story of Bronislaw Huberman, the Israel Philharmonic, and the One Thousand Jews He Saved from Nazi Horrors\n",
            "No One Here Gets Out Alive\n",
            "Night Shift (Night Shift #1-20)\n",
            "Needful Things\n",
            "Mockingjay (The Hunger Games #3)\n",
            "Misery\n",
            "Little Women (Little Women #1)\n",
            "It\n",
            "Harry Potter and the Sorcerer's Stone (Harry Potter #1)\n",
            "Harry Potter and the Prisoner of Azkaban (Harry Potter #3)\n",
            "Harry Potter and the Order of the Phoenix (Harry Potter #5)\n",
            "Harry Potter and the Half-Blood Prince (Harry Potter #6)\n",
            "Harry Potter and the Chamber of Secrets (Harry Potter #2)\n",
            "Gone with the Wind\n",
            "God Is Not Great: How Religion Poisons Everything\n",
            "Girl With a Pearl Earring\n",
            "Fruits Basket, Vol. 4 (Fruits Basket #4)\n",
            "Far From True (Promise Falls Trilogy #2)\n",
            "Dark Lover (Black Dagger Brotherhood #1)\n",
            "Confessions of a Shopaholic (Shopaholic #1)\n",
            "Changing the Game (Play by Play #2)\n",
            "Candide\n",
            "Can You Keep a Secret?\n",
            "Atlas Shrugged\n",
            "Animal Farm\n",
            "A Walk to Remember\n",
            "A New Earth: Awakening to Your Life's Purpose\n",
            "A History of God: The 4,000-Year Quest of Judaism, Christianity, and Islam\n",
            "'Salem's Lot\n",
            "Zero History (Blue Ant #3)\n",
            "Wuthering Heights\n",
            "World War Z: An Oral History of the Zombie War\n",
            "Wild: From Lost to Found on the Pacific Crest Trail\n",
            "Where'd You Go, Bernadette\n",
            "When You Are Engulfed in Flames\n",
            "We the People: The Modern-Day Figures Who Have Reshaped and Affirmed the Founding Fathers' Vision of America\n",
            "We Are All Completely Beside Ourselves\n",
            "Walk the Edge (Thunder Road #2)\n",
            "Voyager (Outlander #3)\n",
            "Very Good Lives: The Fringe Benefits of Failure and the Importance of Imagination\n",
            "Vegan Vegetarian Omnivore: Dinner for Everyone at the Table\n",
            "Unstuffed: Decluttering Your Home, Mind, and Soul\n",
            "Under the Banner of Heaven: A Story of Violent Faith\n",
            "Two Boys Kissing\n",
            "Twilight (Twilight #1)\n",
            "Twenties Girl\n",
            "Trespassing Across America: One Man's Epic, Never-Done-Before (and Sort of Illegal) Hike Across the Heartland\n",
            "Three-Martini Lunch\n",
            "Thinking, Fast and Slow\n",
            "The Wild Robot\n",
            "The Wicked + The Divine, Vol. 3: Commercial Suicide (The Wicked + The Divine)\n",
            "The Undomestic Goddess\n",
            "The Travelers\n",
            "The Tipping Point: How Little Things Can Make a Big Difference\n",
            "The Thing About Jellyfish\n",
            "The Stand\n",
            "The Smitten Kitchen Cookbook\n",
            "The Silkworm (Cormoran Strike #2)\n",
            "The Sandman, Vol. 3: Dream Country (The Sandman (volumes) #3)\n",
            "The Rose & the Dagger (The Wrath and the Dawn #2)\n",
            "The Road to Little Dribbling: Adventures of an American in Britain (Notes From a Small Island #2)\n",
            "The Rise of Theodore Roosevelt (Theodore Roosevelt #1)\n",
            "The Restaurant at the End of the Universe (Hitchhiker's Guide to the Galaxy #2)\n",
            "The Rest Is Noise: Listening to the Twentieth Century\n",
            "The Red Tent\n",
            "The Purpose Driven Life: What on Earth Am I Here for?\n",
            "The Purest Hook (Second Circle Tattoos #3)\n",
            "The Picture of Dorian Gray\n",
            "The Paris Wife\n",
            "The Obsession\n",
            "The Nightingale\n",
            "The New Guy (and Other Senior Year Distractions)\n",
            "The Nanny Diaries (Nanny #1)\n",
            "The Name of God is Mercy\n",
            "The Maze Runner (The Maze Runner #1)\n",
            "The Lover's Dictionary\n",
            "The Lonely Ones\n",
            "The Lean Startup: How Today's Entrepreneurs Use Continuous Innovation to Create Radically Successful Businesses\n",
            "The Last Painting of Sara de Vos\n",
            "The Land of 10,000 Madonnas\n",
            "The Infinities\n",
            "The Husband's Secret\n",
            "The Hitchhiker's Guide to the Galaxy (Hitchhiker's Guide to the Galaxy #1)\n",
            "The Guns of August\n",
            "The Guernsey Literary and Potato Peel Pie Society\n",
            "The Goldfinch\n",
            "The Giver (The Giver Quartet #1)\n",
            "The Girl with All the Gifts\n",
            "The Girl Who Played with Fire (Millennium Trilogy #2)\n",
            "The Girl Who Kicked the Hornet's Nest (Millennium Trilogy #3)\n",
            "The Exiled\n",
            "The End of Faith: Religion, Terror, and the Future of Reason\n",
            "The Elegant Universe: Superstrings, Hidden Dimensions, and the Quest for the Ultimate Theory\n",
            "The Disappearing Spoon: And Other True Tales of Madness, Love, and the History of the World from the Periodic Table of the Elements\n",
            "The Devil Wears Prada (The Devil Wears Prada #1)\n",
            "The Demon-Haunted World: Science as a Candle in the Dark\n",
            "The Day the Crayons Came Home (Crayons)\n",
            "The Da Vinci Code (Robert Langdon #2)\n",
            "The Cuckoo's Calling (Cormoran Strike #1)\n",
            "The Complete Stories and Poems (The Works of Edgar Allan Poe [Cameo Edition])\n",
            "The Complete Poems\n",
            "The Catcher in the Rye\n",
            "The Cat in the Hat (Beginner Books B-1)\n",
            "The Case for Christ (Cases for Christianity)\n",
            "The Book Thief\n",
            "The Book of Basketball: The NBA According to The Sports Guy\n",
            "The Blind Side: Evolution of a Game\n",
            "The Autobiography of Malcolm X\n",
            "The Art of Simple Food: Notes, Lessons, and Recipes from a Delicious Revolution\n",
            "The Art of Fielding\n",
            "Surely You're Joking, Mr. Feynman!: Adventures of a Curious Character\n",
            "Stiff: The Curious Lives of Human Cadavers\n",
            "Spilled Milk: Based on a True Story\n",
            "Something Borrowed (Darcy & Rachel #1)\n",
            "Something Blue (Darcy & Rachel #2)\n",
            "Soldier (Talon #3)\n",
            "Shopaholic & Baby (Shopaholic #5)\n",
            "Seven Days in the Art World\n",
            "Seven Brief Lessons on Physics\n",
            "Scarlet (The Lunar Chronicles #2)\n",
            "Sarah's Key\n",
            "Saga, Volume 3 (Saga (Collected Editions) #3)\n",
            "Running with Scissors\n",
            "Rogue Lawyer (Rogue Lawyer #1)\n",
            "Rise of the Rocket Girls: The Women Who Propelled Us, from Missiles to the Moon to Mars\n",
            "Rework\n",
            "Reservations for Two\n",
            "Red: The True Story of Red Riding Hood\n",
            "Ready Player One\n",
            "Quiet: The Power of Introverts in a World That Can't Stop Talking\n",
            "Prodigy: The Graphic Novel (Legend: The Graphic Novel #2)\n",
            "Persepolis: The Story of a Childhood (Persepolis #1-2)\n",
            "Packing for Mars: The Curious Science of Life in the Void\n",
            "Outliers: The Story of Success\n",
            "Original Fake\n",
            "Orange Is the New Black\n",
            "One for the Money (Stephanie Plum #1)\n",
            "Notes from a Small Island (Notes From a Small Island #1)\n",
            "Night (The Night Trilogy #1)\n",
            "Neither Here nor There: Travels in Europe\n",
            "Naked\n",
            "Morning Star (Red Rising #3)\n",
            "Miracles from Heaven: A Little Girl, Her Journey to Heaven, and Her Amazing Story of Healing\n",
            "Midnight Riot (Peter Grant/ Rivers of London - books #1)\n",
            "Me Talk Pretty One Day\n",
            "Manuscript Found in Accra\n",
            "Lust & Wonder\n",
            "Lila (Gilead #3)\n",
            "Life, the Universe and Everything (Hitchhiker's Guide to the Galaxy #3)\n",
            "Life Without a Recipe\n",
            "Life After Life\n",
            "Letter to a Christian Nation\n",
            "Let's Pretend This Never Happened: A Mostly True Memoir\n",
            "Legend (Legend #1)\n",
            "Lean In: Women, Work, and the Will to Lead\n",
            "Lamb: The Gospel According to Biff, Christ's Childhood Pal\n",
            "Lady Renegades (Rebel Belle #3)\n",
            "Jurassic Park (Jurassic Park #1)\n",
            "It's Never Too Late to Begin Again: Discovering Creativity and Meaning at Midlife and Beyond\n",
            "Is Everyone Hanging Out Without Me? (And Other Concerns)\n",
            "Into the Wild\n",
            "Inferno (Robert Langdon #4)\n",
            "In the Garden of Beasts: Love, Terror, and an American Family in Hitler's Berlin\n",
            "If I Run (If I Run #1)\n",
            "I've Got Your Number\n",
            "I Am Malala: The Girl Who Stood Up for Education and Was Shot by the Taliban\n",
            "Hungry Girl Clean & Hungry: Easy All-Natural Recipes for Healthy Eating in the Real World\n",
            "House of Lost Worlds: Dinosaurs, Dynasties, and the Story of Life on Earth\n",
            "House of Leaves\n",
            "Horrible Bear!\n",
            "Holidays on Ice\n",
            "Heir to the Sky\n",
            "Green Eggs and Ham (Beginner Books B-16)\n",
            "Grayson, Vol 3: Nemesis (Grayson #3)\n",
            "Gratitude\n",
            "Gone Girl\n",
            "Golden (Heart of Dread #3)\n",
            "Girl in the Blue Coat\n",
            "Fruits Basket, Vol. 3 (Fruits Basket #3)\n",
            "Friday Night Lights: A Town, a Team, and a Dream\n",
            "Fire Bound (Sea Haven/Sisters of the Heart #5)\n",
            "Fifty Shades Freed (Fifty Shades #3)\n",
            "Fellside\n",
            "Extreme Prey (Lucas Davenport #26)\n",
            "Eragon (The Inheritance Cycle #1)\n",
            "Eclipse (Twilight #3)\n",
            "Dune (Dune #1)\n",
            "Dracula\n",
            "Do Androids Dream of Electric Sheep? (Blade Runner #1)\n",
            "Disrupted: My Misadventure in the Start-Up Bubble\n",
            "Dead Wake: The Last Crossing of the Lusitania\n",
            "David and Goliath: Underdogs, Misfits, and the Art of Battling Giants\n",
            "Darkfever (Fever #1)\n",
            "Dark Places\n",
            "Crazy Rich Asians (Crazy Rich Asians #1)\n",
            "Counting Thyme\n",
            "Cosmos\n",
            "Civilization and Its Discontents\n",
            "Cinder (The Lunar Chronicles #1)\n",
            "Catastrophic Happiness: Finding Joy in Childhood's Messy Years\n",
            "Career of Evil (Cormoran Strike #3)\n",
            "Breaking Dawn (Twilight #4)\n",
            "Brave Enough\n",
            "Boy Meets Boy\n",
            "Born to Run: A Hidden Tribe, Superathletes, and the Greatest Race the World Has Never Seen\n",
            "Blink: The Power of Thinking Without Thinking\n",
            "Black Flags: The Rise of ISIS\n",
            "Black Butler, Vol. 1 (Black Butler #1)\n",
            "Big Little Lies\n",
            "Between Shades of Gray\n",
            "Best of My Love (Fool's Gold #20)\n",
            "Beowulf\n",
            "Beautiful Creatures (Caster Chronicles #1)\n",
            "Awkward\n",
            "Ash\n",
            "Are We There Yet?\n",
            "Are We Smart Enough to Know How Smart Animals Are?\n",
            "Annie on My Mind\n",
            "And Then There Were None\n",
            "A Walk in the Woods: Rediscovering America on the Appalachian Trail\n",
            "A Visit from the Goon Squad\n",
            "A Storm of Swords (A Song of Ice and Fire #3)\n",
            "A Heartbreaking Work of Staggering Genius\n",
            "8 Keys to Mental Health Through Exercise\n",
            "#GIRLBOSS\n",
            "The Suffragettes (Little Black Classics, #96)\n",
            "The Sense of an Ending\n",
            "The Sandman, Vol. 2: The Doll's House (The Sandman (volumes) #2)\n",
            "The Course of Love\n",
            "Sugar Rush (Offensive Line #2)\n",
            "Saga, Volume 2 (Saga (Collected Editions) #2)\n",
            "Run, Spot, Run: The Ethics of Keeping Pets\n",
            "New Moon (Twilight #2)\n",
            "Life\n",
            "Kindle Paperwhite User's Guide\n",
            "H is for Hawk\n",
            "Girl Online On Tour (Girl Online #2)\n",
            "Fruits Basket, Vol. 2 (Fruits Basket #2)\n",
            "Diary of a Minecraft Zombie Book 1: A Scare of a Dare (An Unofficial Minecraft Book)\n",
            "Y: The Last Man, Vol. 1: Unmanned (Y: The Last Man #1)\n",
            "While You Were Mine\n",
            "Where Lightning Strikes (Bleeding Stars #3)\n",
            "When I'm Gone\n",
            "Ways of Seeing\n",
            "Vampire Knight, Vol. 1 (Vampire Knight #1)\n",
            "Vampire Girl (Vampire Girl #1)\n",
            "Twenty Love Poems and a Song of Despair\n",
            "Travels with Charley: In Search of America\n",
            "Three Wishes (River of Time: California #1)\n",
            "This One Moment (Pushing Limits #1)\n",
            "The Zombie Room\n",
            "The Wicked + The Divine, Vol. 1: The Faust Act (The Wicked + The Divine)\n",
            "The Tumor\n",
            "The Story of Hong Gildong\n",
            "The Silent Wife\n",
            "The Silent Twin (Detective Jennifer Knight #3)\n",
            "The Selfish Gene\n",
            "The Secret Healer\n",
            "The Sandman, Vol. 1: Preludes and Nocturnes (The Sandman (volumes) #1)\n",
            "The Republic\n",
            "The Odyssey\n",
            "The No. 1 Ladies' Detective Agency (No. 1 Ladies' Detective Agency #1)\n",
            "The Nicomachean Ethics\n",
            "The Name of the Wind (The Kingkiller Chronicle #1)\n",
            "The Mirror & the Maze (The Wrath and the Dawn #1.5)\n",
            "The Little Prince\n",
            "The Light of the Fireflies\n",
            "The Last Girl (The Dominion Trilogy #1)\n",
            "The Iliad\n",
            "The Hook Up (Game On #1)\n",
            "The Haters\n",
            "The Girl You Lost\n",
            "The Girl In The Ice (DCI Erika Foster #1)\n",
            "The End of the Jesus Era (An Investigation #1)\n",
            "The Edge of Reason (Bridget Jones #2)\n",
            "The Complete Maus (Maus #1-2)\n",
            "The Communist Manifesto\n",
            "The Bhagavad Gita\n",
            "The Bette Davis Club\n",
            "The Art of Not Breathing\n",
            "Taking Shots (Assassins #1)\n",
            "Starlark\n",
            "Skip Beat!, Vol. 01 (Skip Beat! #1)\n",
            "Sister Sable (The Mad Queen #1)\n",
            "Shatter Me (Shatter Me #1)\n",
            "Shameless\n",
            "Shadow Rites (Jane Yellowrock #10)\n",
            "Settling the Score (The Summer Games #1)\n",
            "Sense and Sensibility\n",
            "Saga, Volume 1 (Saga (Collected Editions) #1)\n",
            "Rhythm, Chord & Malykhin\n",
            "Rat Queens, Vol. 1: Sass & Sorcery (Rat Queens (Collected Editions) #1-5)\n",
            "Paradise Lost (Paradise #1)\n",
            "Paper Girls, Vol. 1 (Paper Girls #1-5)\n",
            "Ouran High School Host Club, Vol. 1 (Ouran High School Host Club #1)\n",
            "Origins (Alphas 0.5)\n",
            "One Second (Seven #7)\n",
            "On the Road (Duluoz Legend)\n",
            "Old Records Never Die: One Man's Quest for His Vinyl and His Past\n",
            "Off Sides (Off #1)\n",
            "Of Mice and Men\n",
            "Myriad (Prentor #1)\n",
            "My Perfect Mistake (Over the Top #1)\n",
            "Ms. Marvel, Vol. 1: No Normal (Ms. Marvel (2014-2015) #1)\n",
            "Meditations\n",
            "Matilda\n",
            "Lost Among the Living\n",
            "Lord of the Flies\n",
            "Listen to Me (Fusion #1)\n",
            "Kitchens of the Great Midwest\n",
            "Jane Eyre\n",
            "Imperfect Harmony\n",
            "Icing (Aces Hockey #2)\n",
            "Hawkeye, Vol. 1: My Life as a Weapon (Hawkeye #1)\n",
            "Having the Barbarian's Baby (Ice Planet Barbarians #7.5)\n",
            "Giant Days, Vol. 1 (Giant Days #1-4)\n",
            "Fruits Basket, Vol. 1 (Fruits Basket #1)\n",
            "Frankenstein\n",
            "Forever Rockers (The Rocker #12)\n",
            "Fighting Fate (Fighting #6)\n",
            "Emma\n",
            "Eat, Pray, Love\n",
            "Deep Under (Walker Security #1)\n",
            "Choosing Our Religion: The Spiritual Lives of America's Nones\n",
            "Charlie and the Chocolate Factory (Charlie Bucket #1)\n",
            "Charity's Cross (Charles Towne Belles #4)\n",
            "Bright Lines\n",
            "Bridget Jones's Diary (Bridget Jones #1)\n",
            "Bounty (Colorado Mountain #7)\n",
            "Blood Defense (Samantha Brinkman #1)\n",
            "Bleach, Vol. 1: Strawberry and the Soul Reapers (Bleach #1)\n",
            "Beyond Good and Evil\n",
            "Alice in Wonderland (Alice's Adventures in Wonderland #1)\n",
            "Ajin: Demi-Human, Volume 1 (Ajin: Demi-Human #1)\n",
            "A Spy's Devotion (The Regency Spies of London #1)\n",
            "1st to Die (Women's Murder Club #1)\n",
            "1,000 Places to See Before You Die\n"
          ],
          "name": "stdout"
        }
      ]
    },
    {
      "cell_type": "markdown",
      "metadata": {
        "id": "G6ela5fjmzlk",
        "colab_type": "text"
      },
      "source": [
        "## Recomendação para Comprar ou Incentivar novos Estoques:\n",
        "\n",
        "O Data Frame elaborado nessa parte tem como objetivo de auxiliar a tomada de decisão para livros que possuem notas entre 4 e 5, mas possuem menos de 5 exemplares disponíveis para venda/troca. **No total 119 livros estão nessa área.**"
      ]
    },
    {
      "cell_type": "code",
      "metadata": {
        "id": "Lf8E1_eL4zoQ",
        "colab_type": "code",
        "colab": {
          "base_uri": "https://localhost:8080/",
          "height": 406
        },
        "outputId": "63f36d9f-d4cb-4a27-df58-060307e48c0d"
      },
      "source": [
        "# Elaborando o Data Frame:\n",
        "df_novo_estoque = pd.DataFrame()\n",
        "\n",
        "# Criando um laço de repetição para cada Gênero:\n",
        "for i in df.Genero.unique():\n",
        "  # Juntando os livros do Gênero 'i' que possuem estoque abaixo de 5 e estrela entre 4 e 5:\n",
        "  livros = df[(df.Genero == i) & (df.Estoque < 5) & (df.Estrelas > 3)]\n",
        "  \n",
        "  # Agrupando as informações em um Data Frame:\n",
        "  df_novo_estoque = pd.concat([df_novo_estoque, livros])\n",
        "df_novo_estoque"
      ],
      "execution_count": 18,
      "outputs": [
        {
          "output_type": "execute_result",
          "data": {
            "text/html": [
              "<div>\n",
              "<style scoped>\n",
              "    .dataframe tbody tr th:only-of-type {\n",
              "        vertical-align: middle;\n",
              "    }\n",
              "\n",
              "    .dataframe tbody tr th {\n",
              "        vertical-align: top;\n",
              "    }\n",
              "\n",
              "    .dataframe thead th {\n",
              "        text-align: right;\n",
              "    }\n",
              "</style>\n",
              "<table border=\"1\" class=\"dataframe\">\n",
              "  <thead>\n",
              "    <tr style=\"text-align: right;\">\n",
              "      <th></th>\n",
              "      <th>Titulo</th>\n",
              "      <th>Genero</th>\n",
              "      <th>Preco</th>\n",
              "      <th>Estrelas</th>\n",
              "      <th>Estoque</th>\n",
              "      <th>UPC</th>\n",
              "      <th>Total_Arrecadavel</th>\n",
              "    </tr>\n",
              "  </thead>\n",
              "  <tbody>\n",
              "    <tr>\n",
              "      <th>909</th>\n",
              "      <td>Twenty Love Poems and a Song of Despair</td>\n",
              "      <td>Poetry</td>\n",
              "      <td>30.95</td>\n",
              "      <td>4</td>\n",
              "      <td>1</td>\n",
              "      <td>e63c3f25338baf9a</td>\n",
              "      <td>30.95</td>\n",
              "    </tr>\n",
              "    <tr>\n",
              "      <th>649</th>\n",
              "      <td>The Passion of Dolssa</td>\n",
              "      <td>Historical Fiction</td>\n",
              "      <td>28.32</td>\n",
              "      <td>5</td>\n",
              "      <td>4</td>\n",
              "      <td>011674f4a3834b8d</td>\n",
              "      <td>113.28</td>\n",
              "    </tr>\n",
              "    <tr>\n",
              "      <th>701</th>\n",
              "      <td>Voyager (Outlander #3)</td>\n",
              "      <td>Historical Fiction</td>\n",
              "      <td>21.07</td>\n",
              "      <td>5</td>\n",
              "      <td>3</td>\n",
              "      <td>7feac4000cbc5859</td>\n",
              "      <td>63.21</td>\n",
              "    </tr>\n",
              "    <tr>\n",
              "      <th>727</th>\n",
              "      <td>The Red Tent</td>\n",
              "      <td>Historical Fiction</td>\n",
              "      <td>35.66</td>\n",
              "      <td>5</td>\n",
              "      <td>3</td>\n",
              "      <td>3c456328b04a8ee8</td>\n",
              "      <td>106.98</td>\n",
              "    </tr>\n",
              "    <tr>\n",
              "      <th>872</th>\n",
              "      <td>Between Shades of Gray</td>\n",
              "      <td>Historical Fiction</td>\n",
              "      <td>20.79</td>\n",
              "      <td>5</td>\n",
              "      <td>3</td>\n",
              "      <td>155e42df837ee5ff</td>\n",
              "      <td>62.37</td>\n",
              "    </tr>\n",
              "    <tr>\n",
              "      <th>...</th>\n",
              "      <td>...</td>\n",
              "      <td>...</td>\n",
              "      <td>...</td>\n",
              "      <td>...</td>\n",
              "      <td>...</td>\n",
              "      <td>...</td>\n",
              "      <td>...</td>\n",
              "    </tr>\n",
              "    <tr>\n",
              "      <th>762</th>\n",
              "      <td>The Complete Stories and Poems (The Works of E...</td>\n",
              "      <td>Classics</td>\n",
              "      <td>26.78</td>\n",
              "      <td>4</td>\n",
              "      <td>3</td>\n",
              "      <td>cad70d6ffd53912f</td>\n",
              "      <td>80.34</td>\n",
              "    </tr>\n",
              "    <tr>\n",
              "      <th>916</th>\n",
              "      <td>The Story of Hong Gildong</td>\n",
              "      <td>Classics</td>\n",
              "      <td>43.19</td>\n",
              "      <td>4</td>\n",
              "      <td>1</td>\n",
              "      <td>32d035df92ab9080</td>\n",
              "      <td>43.19</td>\n",
              "    </tr>\n",
              "    <tr>\n",
              "      <th>768</th>\n",
              "      <td>The Book of Basketball: The NBA According to T...</td>\n",
              "      <td>Sports and Games</td>\n",
              "      <td>44.84</td>\n",
              "      <td>5</td>\n",
              "      <td>3</td>\n",
              "      <td>08decd9664e5d56e</td>\n",
              "      <td>134.52</td>\n",
              "    </tr>\n",
              "    <tr>\n",
              "      <th>975</th>\n",
              "      <td>Icing (Aces Hockey #2)</td>\n",
              "      <td>Sports and Games</td>\n",
              "      <td>40.44</td>\n",
              "      <td>4</td>\n",
              "      <td>1</td>\n",
              "      <td>3455b45888fb5053</td>\n",
              "      <td>40.44</td>\n",
              "    </tr>\n",
              "    <tr>\n",
              "      <th>844</th>\n",
              "      <td>Fifty Shades Freed (Fifty Shades #3)</td>\n",
              "      <td>Adult Fiction</td>\n",
              "      <td>15.36</td>\n",
              "      <td>5</td>\n",
              "      <td>3</td>\n",
              "      <td>ed813a848580ba50</td>\n",
              "      <td>46.08</td>\n",
              "    </tr>\n",
              "  </tbody>\n",
              "</table>\n",
              "<p>119 rows × 7 columns</p>\n",
              "</div>"
            ],
            "text/plain": [
              "                                                Titulo  ... Total_Arrecadavel\n",
              "909            Twenty Love Poems and a Song of Despair  ...             30.95\n",
              "649                              The Passion of Dolssa  ...            113.28\n",
              "701                             Voyager (Outlander #3)  ...             63.21\n",
              "727                                       The Red Tent  ...            106.98\n",
              "872                             Between Shades of Gray  ...             62.37\n",
              "..                                                 ...  ...               ...\n",
              "762  The Complete Stories and Poems (The Works of E...  ...             80.34\n",
              "916                          The Story of Hong Gildong  ...             43.19\n",
              "768  The Book of Basketball: The NBA According to T...  ...            134.52\n",
              "975                             Icing (Aces Hockey #2)  ...             40.44\n",
              "844               Fifty Shades Freed (Fifty Shades #3)  ...             46.08\n",
              "\n",
              "[119 rows x 7 columns]"
            ]
          },
          "metadata": {
            "tags": []
          },
          "execution_count": 18
        }
      ]
    },
    {
      "cell_type": "markdown",
      "metadata": {
        "id": "g5kWZet3tXFg",
        "colab_type": "text"
      },
      "source": [
        "## Recomendação para Promover Livros:\n",
        "\n",
        "A terceira e ultima recomendação são para os livros que possuem exemplares acima de 10 unidades e notas entre 4 e 5.\n",
        "\n",
        "No Total, foram separados 158 livros que estão nessa situação."
      ]
    },
    {
      "cell_type": "code",
      "metadata": {
        "id": "A39tDurutZr-",
        "colab_type": "code",
        "colab": {
          "base_uri": "https://localhost:8080/",
          "height": 406
        },
        "outputId": "1378fd1e-bf47-469c-e18e-33ec0fa5e137"
      },
      "source": [
        "df_famosos_em_estoque = pd.DataFrame()\n",
        "for i in df.Genero.unique():\n",
        "  livros = df[(df.Genero == i) & (df.Estoque > 10) & (df.Estrelas > 3)]\n",
        "  \n",
        "  df_famosos_em_estoque = pd.concat([df_famosos_em_estoque, livros])\n",
        "df_famosos_em_estoque"
      ],
      "execution_count": 19,
      "outputs": [
        {
          "output_type": "execute_result",
          "data": {
            "text/html": [
              "<div>\n",
              "<style scoped>\n",
              "    .dataframe tbody tr th:only-of-type {\n",
              "        vertical-align: middle;\n",
              "    }\n",
              "\n",
              "    .dataframe tbody tr th {\n",
              "        vertical-align: top;\n",
              "    }\n",
              "\n",
              "    .dataframe thead th {\n",
              "        text-align: right;\n",
              "    }\n",
              "</style>\n",
              "<table border=\"1\" class=\"dataframe\">\n",
              "  <thead>\n",
              "    <tr style=\"text-align: right;\">\n",
              "      <th></th>\n",
              "      <th>Titulo</th>\n",
              "      <th>Genero</th>\n",
              "      <th>Preco</th>\n",
              "      <th>Estrelas</th>\n",
              "      <th>Estoque</th>\n",
              "      <th>UPC</th>\n",
              "      <th>Total_Arrecadavel</th>\n",
              "    </tr>\n",
              "  </thead>\n",
              "  <tbody>\n",
              "    <tr>\n",
              "      <th>11</th>\n",
              "      <td>Shakespeare's Sonnets</td>\n",
              "      <td>Poetry</td>\n",
              "      <td>20.66</td>\n",
              "      <td>4</td>\n",
              "      <td>19</td>\n",
              "      <td>30a7f60cd76ca58c</td>\n",
              "      <td>392.54</td>\n",
              "    </tr>\n",
              "    <tr>\n",
              "      <th>47</th>\n",
              "      <td>Untitled Collection: Sabbath Poems 2014</td>\n",
              "      <td>Poetry</td>\n",
              "      <td>14.27</td>\n",
              "      <td>4</td>\n",
              "      <td>16</td>\n",
              "      <td>657fe5ead67a7767</td>\n",
              "      <td>228.32</td>\n",
              "    </tr>\n",
              "    <tr>\n",
              "      <th>176</th>\n",
              "      <td>Poems That Make Grown Women Cry</td>\n",
              "      <td>Poetry</td>\n",
              "      <td>14.19</td>\n",
              "      <td>4</td>\n",
              "      <td>15</td>\n",
              "      <td>31001a1210623bd4</td>\n",
              "      <td>212.85</td>\n",
              "    </tr>\n",
              "    <tr>\n",
              "      <th>269</th>\n",
              "      <td>salt.</td>\n",
              "      <td>Poetry</td>\n",
              "      <td>46.78</td>\n",
              "      <td>4</td>\n",
              "      <td>14</td>\n",
              "      <td>86cbddb61ea78bb7</td>\n",
              "      <td>654.92</td>\n",
              "    </tr>\n",
              "    <tr>\n",
              "      <th>273</th>\n",
              "      <td>Quarter Life Poetry: Poems for the Young, Brok...</td>\n",
              "      <td>Poetry</td>\n",
              "      <td>50.89</td>\n",
              "      <td>5</td>\n",
              "      <td>14</td>\n",
              "      <td>aa35446aab16017f</td>\n",
              "      <td>712.46</td>\n",
              "    </tr>\n",
              "    <tr>\n",
              "      <th>...</th>\n",
              "      <td>...</td>\n",
              "      <td>...</td>\n",
              "      <td>...</td>\n",
              "      <td>...</td>\n",
              "      <td>...</td>\n",
              "      <td>...</td>\n",
              "      <td>...</td>\n",
              "    </tr>\n",
              "    <tr>\n",
              "      <th>200</th>\n",
              "      <td>Dark Notes</td>\n",
              "      <td>Erotica</td>\n",
              "      <td>19.19</td>\n",
              "      <td>5</td>\n",
              "      <td>15</td>\n",
              "      <td>88c21fcd38e2486e</td>\n",
              "      <td>287.85</td>\n",
              "    </tr>\n",
              "    <tr>\n",
              "      <th>277</th>\n",
              "      <td>Old School (Diary of a Wimpy Kid #10)</td>\n",
              "      <td>Humor</td>\n",
              "      <td>11.83</td>\n",
              "      <td>5</td>\n",
              "      <td>14</td>\n",
              "      <td>02b74068fa98d8a4</td>\n",
              "      <td>165.62</td>\n",
              "    </tr>\n",
              "    <tr>\n",
              "      <th>296</th>\n",
              "      <td>I Know What I'm Doing -- and Other Lies I Tell...</td>\n",
              "      <td>Humor</td>\n",
              "      <td>25.98</td>\n",
              "      <td>4</td>\n",
              "      <td>14</td>\n",
              "      <td>b8a8ff84233f0570</td>\n",
              "      <td>363.72</td>\n",
              "    </tr>\n",
              "    <tr>\n",
              "      <th>298</th>\n",
              "      <td>Hyperbole and a Half: Unfortunate Situations, ...</td>\n",
              "      <td>Humor</td>\n",
              "      <td>14.75</td>\n",
              "      <td>5</td>\n",
              "      <td>14</td>\n",
              "      <td>fbb21a2f71f4d981</td>\n",
              "      <td>206.50</td>\n",
              "    </tr>\n",
              "    <tr>\n",
              "      <th>340</th>\n",
              "      <td>All the Light We Cannot See</td>\n",
              "      <td>Historical</td>\n",
              "      <td>29.87</td>\n",
              "      <td>5</td>\n",
              "      <td>14</td>\n",
              "      <td>39861fc1c0845d15</td>\n",
              "      <td>418.18</td>\n",
              "    </tr>\n",
              "  </tbody>\n",
              "</table>\n",
              "<p>158 rows × 7 columns</p>\n",
              "</div>"
            ],
            "text/plain": [
              "                                                Titulo  ... Total_Arrecadavel\n",
              "11                               Shakespeare's Sonnets  ...            392.54\n",
              "47             Untitled Collection: Sabbath Poems 2014  ...            228.32\n",
              "176                    Poems That Make Grown Women Cry  ...            212.85\n",
              "269                                              salt.  ...            654.92\n",
              "273  Quarter Life Poetry: Poems for the Young, Brok...  ...            712.46\n",
              "..                                                 ...  ...               ...\n",
              "200                                         Dark Notes  ...            287.85\n",
              "277              Old School (Diary of a Wimpy Kid #10)  ...            165.62\n",
              "296  I Know What I'm Doing -- and Other Lies I Tell...  ...            363.72\n",
              "298  Hyperbole and a Half: Unfortunate Situations, ...  ...            206.50\n",
              "340                        All the Light We Cannot See  ...            418.18\n",
              "\n",
              "[158 rows x 7 columns]"
            ]
          },
          "metadata": {
            "tags": []
          },
          "execution_count": 19
        }
      ]
    },
    {
      "cell_type": "markdown",
      "metadata": {
        "id": "6J46q12NVYAh",
        "colab_type": "text"
      },
      "source": [
        "# **Dúvidas e Redes Sociais:**\n",
        "O repositório aumentará o seu tamanho de acordo com as realizações dos cursos. E claro, aceito recomendações de cursos, livros ou vídeos! Qualquer duvida me chame no [LinkedIn](https://www.linkedin.com/in/gabriel-trentino-froes-415558144/)."
      ]
    }
  ]
}